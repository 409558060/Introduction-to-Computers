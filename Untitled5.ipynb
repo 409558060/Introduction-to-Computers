{
  "nbformat": 4,
  "nbformat_minor": 0,
  "metadata": {
    "colab": {
      "name": "Untitled5.ipynb",
      "provenance": [],
      "include_colab_link": true
    },
    "kernelspec": {
      "name": "python3",
      "display_name": "Python 3"
    },
    "language_info": {
      "name": "python"
    }
  },
  "cells": [
    {
      "cell_type": "markdown",
      "metadata": {
        "id": "view-in-github",
        "colab_type": "text"
      },
      "source": [
        "<a href=\"https://colab.research.google.com/github/409558060/Introduction-to-Computers/blob/main/Untitled5.ipynb\" target=\"_parent\"><img src=\"https://colab.research.google.com/assets/colab-badge.svg\" alt=\"Open In Colab\"/></a>"
      ]
    },
    {
      "cell_type": "code",
      "execution_count": null,
      "metadata": {
        "colab": {
          "base_uri": "https://localhost:8080/"
        },
        "id": "xXbYl0XHhA2w",
        "outputId": "b16c9b4b-afb2-4e16-923d-613c288abd6f"
      },
      "outputs": [
        {
          "output_type": "stream",
          "name": "stdout",
          "text": [
            "test\n"
          ]
        }
      ],
      "source": [
        "print(\"test\")"
      ]
    },
    {
      "cell_type": "code",
      "source": [
        "print(\"test\")\n"
      ],
      "metadata": {
        "colab": {
          "base_uri": "https://localhost:8080/"
        },
        "id": "RyV18hbbhMzA",
        "outputId": "86457d6e-57f5-4ff9-8ce6-b20e11edb103"
      },
      "execution_count": null,
      "outputs": [
        {
          "output_type": "stream",
          "name": "stdout",
          "text": [
            "test\n"
          ]
        }
      ]
    },
    {
      "cell_type": "code",
      "source": [
        "sum = 0\n",
        "test = int(input(\"請輸入一個正整數: \"))\n",
        "for n in range(1, test+1):\n",
        "  sum = sum+n\n",
        "print(\"1到\",test,\"的整數和為\",sum)"
      ],
      "metadata": {
        "colab": {
          "base_uri": "https://localhost:8080/"
        },
        "id": "VirHgwxahM_J",
        "outputId": "da560b14-3d7b-4a49-e40e-949ddfbd2002"
      },
      "execution_count": null,
      "outputs": [
        {
          "output_type": "stream",
          "name": "stdout",
          "text": [
            "請輸入一個正整數: 50\n",
            "1到 50 的整數和為 1275\n"
          ]
        }
      ]
    },
    {
      "cell_type": "code",
      "source": [
        "sum = 0\n",
        "test = int(input(\"請輸入一個正整數: \"))\n",
        "for m in range(1, test+1 ):\n",
        "  sum = sum+m\n",
        "  print(\"1到\",test,\"的整數和為\",sum)"
      ],
      "metadata": {
        "colab": {
          "base_uri": "https://localhost:8080/"
        },
        "id": "WIRuQW1HhNCp",
        "outputId": "bed4e039-017c-49c6-d257-fcf5efaab172"
      },
      "execution_count": null,
      "outputs": [
        {
          "output_type": "stream",
          "name": "stdout",
          "text": [
            "請輸入一個正整數: 50\n",
            "1到 50 的整數和為 1\n",
            "1到 50 的整數和為 3\n",
            "1到 50 的整數和為 6\n",
            "1到 50 的整數和為 10\n",
            "1到 50 的整數和為 15\n",
            "1到 50 的整數和為 21\n",
            "1到 50 的整數和為 28\n",
            "1到 50 的整數和為 36\n",
            "1到 50 的整數和為 45\n",
            "1到 50 的整數和為 55\n",
            "1到 50 的整數和為 66\n",
            "1到 50 的整數和為 78\n",
            "1到 50 的整數和為 91\n",
            "1到 50 的整數和為 105\n",
            "1到 50 的整數和為 120\n",
            "1到 50 的整數和為 136\n",
            "1到 50 的整數和為 153\n",
            "1到 50 的整數和為 171\n",
            "1到 50 的整數和為 190\n",
            "1到 50 的整數和為 210\n",
            "1到 50 的整數和為 231\n",
            "1到 50 的整數和為 253\n",
            "1到 50 的整數和為 276\n",
            "1到 50 的整數和為 300\n",
            "1到 50 的整數和為 325\n",
            "1到 50 的整數和為 351\n",
            "1到 50 的整數和為 378\n",
            "1到 50 的整數和為 406\n",
            "1到 50 的整數和為 435\n",
            "1到 50 的整數和為 465\n",
            "1到 50 的整數和為 496\n",
            "1到 50 的整數和為 528\n",
            "1到 50 的整數和為 561\n",
            "1到 50 的整數和為 595\n",
            "1到 50 的整數和為 630\n",
            "1到 50 的整數和為 666\n",
            "1到 50 的整數和為 703\n",
            "1到 50 的整數和為 741\n",
            "1到 50 的整數和為 780\n",
            "1到 50 的整數和為 820\n",
            "1到 50 的整數和為 861\n",
            "1到 50 的整數和為 903\n",
            "1到 50 的整數和為 946\n",
            "1到 50 的整數和為 990\n",
            "1到 50 的整數和為 1035\n",
            "1到 50 的整數和為 1081\n",
            "1到 50 的整數和為 1128\n",
            "1到 50 的整數和為 1176\n",
            "1到 50 的整數和為 1225\n",
            "1到 50 的整數和為 1275\n"
          ]
        }
      ]
    },
    {
      "cell_type": "code",
      "source": [
        "for j in range(1,5):\n",
        "  print(j)\n",
        "  for i in range(1,3):\n",
        "    k = i*j\n",
        "    print(j,\"*\",i,\"m\",k)"
      ],
      "metadata": {
        "colab": {
          "base_uri": "https://localhost:8080/"
        },
        "id": "DyyHYvkCkif0",
        "outputId": "8230d018-c69c-4cce-de8c-afa2d37c3ed6"
      },
      "execution_count": null,
      "outputs": [
        {
          "output_type": "stream",
          "name": "stdout",
          "text": [
            "1\n",
            "1 * 1 m 1\n",
            "1 * 2 m 2\n",
            "2\n",
            "2 * 1 m 2\n",
            "2 * 2 m 4\n",
            "3\n",
            "3 * 1 m 3\n",
            "3 * 2 m 6\n",
            "4\n",
            "4 * 1 m 4\n",
            "4 * 2 m 8\n"
          ]
        }
      ]
    },
    {
      "cell_type": "code",
      "source": [
        "for i in range(1, 5):\n",
        "  if(i==3):\n",
        "    break\n",
        "  print(i, end = \" \")"
      ],
      "metadata": {
        "colab": {
          "base_uri": "https://localhost:8080/"
        },
        "id": "EsKcRlU9kig3",
        "outputId": "c7f8cece-0127-4d78-b6bb-06f03b1191e9"
      },
      "execution_count": null,
      "outputs": [
        {
          "output_type": "stream",
          "name": "stdout",
          "text": [
            "1 2 "
          ]
        }
      ]
    },
    {
      "cell_type": "code",
      "source": [
        "count = 0\n",
        "for string in 'hello!':\n",
        "  count+=1\n",
        "  if string == 'o':\n",
        "     break \n",
        "  print(string)\n",
        "print(\"迴圈結束\")\n",
        "print(\"迴圈執行了 &d 次\" &count)"
      ],
      "metadata": {
        "colab": {
          "base_uri": "https://localhost:8080/",
          "height": 288
        },
        "id": "bYG8wJsTkikJ",
        "outputId": "b5b7c27f-426a-4ada-b0b6-59e42e16acb8"
      },
      "execution_count": null,
      "outputs": [
        {
          "output_type": "stream",
          "name": "stdout",
          "text": [
            "h\n",
            "e\n",
            "l\n",
            "l\n",
            "迴圈結束\n"
          ]
        },
        {
          "output_type": "error",
          "ename": "TypeError",
          "evalue": "ignored",
          "traceback": [
            "\u001b[0;31m---------------------------------------------------------------------------\u001b[0m",
            "\u001b[0;31mTypeError\u001b[0m                                 Traceback (most recent call last)",
            "\u001b[0;32m<ipython-input-37-77b256da4f7b>\u001b[0m in \u001b[0;36m<module>\u001b[0;34m()\u001b[0m\n\u001b[1;32m      6\u001b[0m   \u001b[0mprint\u001b[0m\u001b[0;34m(\u001b[0m\u001b[0mstring\u001b[0m\u001b[0;34m)\u001b[0m\u001b[0;34m\u001b[0m\u001b[0;34m\u001b[0m\u001b[0m\n\u001b[1;32m      7\u001b[0m \u001b[0mprint\u001b[0m\u001b[0;34m(\u001b[0m\u001b[0;34m\"迴圈結束\"\u001b[0m\u001b[0;34m)\u001b[0m\u001b[0;34m\u001b[0m\u001b[0;34m\u001b[0m\u001b[0m\n\u001b[0;32m----> 8\u001b[0;31m \u001b[0mprint\u001b[0m\u001b[0;34m(\u001b[0m\u001b[0;34m\"迴圈執行了 &d 次\"\u001b[0m \u001b[0;34m&\u001b[0m\u001b[0mcount\u001b[0m\u001b[0;34m)\u001b[0m\u001b[0;34m\u001b[0m\u001b[0;34m\u001b[0m\u001b[0m\n\u001b[0m",
            "\u001b[0;31mTypeError\u001b[0m: unsupported operand type(s) for &: 'str' and 'int'"
          ]
        }
      ]
    },
    {
      "cell_type": "code",
      "source": [
        ""
      ],
      "metadata": {
        "id": "KZ5F56ZdkilR"
      },
      "execution_count": null,
      "outputs": []
    },
    {
      "cell_type": "code",
      "source": [
        ""
      ],
      "metadata": {
        "id": "MuSOqDaPkiru"
      },
      "execution_count": null,
      "outputs": []
    }
  ]
}